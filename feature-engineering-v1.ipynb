{
 "cells": [
  {
   "cell_type": "code",
   "execution_count": 8,
   "metadata": {},
   "outputs": [],
   "source": [
    "import os, json\n",
    "import pandas as pd\n",
    "\n",
    "import utils\n",
    "\n",
    "%matplotlib inline"
   ]
  },
  {
   "cell_type": "markdown",
   "metadata": {},
   "source": [
    "# make time series to dataframe"
   ]
  },
  {
   "cell_type": "code",
   "execution_count": 9,
   "metadata": {},
   "outputs": [
    {
     "name": "stderr",
     "output_type": "stream",
     "text": [
      "/anaconda3/lib/python3.7/site-packages/IPython/core/interactiveshell.py:3185: DtypeWarning: Columns (13) have mixed types. Specify dtype option on import or set low_memory=False.\n",
      "  if (yield from self.run_code(code, result)):\n"
     ]
    },
    {
     "data": {
      "text/plain": [
       "6247866"
      ]
     },
     "execution_count": 9,
     "metadata": {},
     "output_type": "execute_result"
    }
   ],
   "source": [
    "nums_folder = \"./data/sec\"\n",
    "num_prefix = \"numbers_sec-numbers\"\n",
    "\n",
    "df_nums = utils.load_folder_csv(nums_folder, prefix=num_prefix)\n",
    "len(df_nums)"
   ]
  },
  {
   "cell_type": "code",
   "execution_count": 11,
   "metadata": {},
   "outputs": [
    {
     "data": {
      "text/plain": [
       "208"
      ]
     },
     "execution_count": 11,
     "metadata": {},
     "output_type": "execute_result"
    }
   ],
   "source": [
    "tags = json.loads(open('freq_tags.json', 'r').read())\n",
    "len(tags)"
   ]
  },
  {
   "cell_type": "code",
   "execution_count": 12,
   "metadata": {},
   "outputs": [
    {
     "data": {
      "text/plain": [
       "1363249"
      ]
     },
     "execution_count": 12,
     "metadata": {},
     "output_type": "execute_result"
    }
   ],
   "source": [
    "df_quarters = df_nums[df_nums['number_of_quarters']==1]\n",
    "len(df_quarters)"
   ]
  },
  {
   "cell_type": "code",
   "execution_count": 13,
   "metadata": {},
   "outputs": [
    {
     "data": {
      "text/html": [
       "<div>\n",
       "<style scoped>\n",
       "    .dataframe tbody tr th:only-of-type {\n",
       "        vertical-align: middle;\n",
       "    }\n",
       "\n",
       "    .dataframe tbody tr th {\n",
       "        vertical-align: top;\n",
       "    }\n",
       "\n",
       "    .dataframe thead th {\n",
       "        text-align: right;\n",
       "    }\n",
       "</style>\n",
       "<table border=\"1\" class=\"dataframe\">\n",
       "  <thead>\n",
       "    <tr style=\"text-align: right;\">\n",
       "      <th></th>\n",
       "      <th>submission_number</th>\n",
       "      <th>company_name</th>\n",
       "      <th>measure_tag</th>\n",
       "      <th>version</th>\n",
       "      <th>period_end_date</th>\n",
       "      <th>number_of_quarters</th>\n",
       "      <th>units</th>\n",
       "      <th>dimension_hash</th>\n",
       "      <th>iprx</th>\n",
       "      <th>value</th>\n",
       "      <th>footnote</th>\n",
       "      <th>footnote_length</th>\n",
       "      <th>num_dimensions</th>\n",
       "      <th>coregistrant</th>\n",
       "      <th>duration_fraction</th>\n",
       "      <th>date_fraction</th>\n",
       "      <th>decimal</th>\n",
       "    </tr>\n",
       "  </thead>\n",
       "  <tbody>\n",
       "    <tr>\n",
       "      <th>22</th>\n",
       "      <td>0001047469-15-003049</td>\n",
       "      <td>INTERNATIONAL LEASE FINANCE CORP</td>\n",
       "      <td>FairValueMeasurementNonrecurringBasisAssetRecl...</td>\n",
       "      <td>0001047469-15-003049</td>\n",
       "      <td>20140430</td>\n",
       "      <td>1</td>\n",
       "      <td>USD</td>\n",
       "      <td>0x75ad5ded176d309d618ffa977f8e8804</td>\n",
       "      <td>0</td>\n",
       "      <td>1.261400e+07</td>\n",
       "      <td>NaN</td>\n",
       "      <td>0</td>\n",
       "      <td>5</td>\n",
       "      <td>NaN</td>\n",
       "      <td>-0.446575</td>\n",
       "      <td>-13.0</td>\n",
       "      <td>-3</td>\n",
       "    </tr>\n",
       "    <tr>\n",
       "      <th>47</th>\n",
       "      <td>0001047469-15-003049</td>\n",
       "      <td>INTERNATIONAL LEASE FINANCE CORP</td>\n",
       "      <td>OperatingLeasesIncomeStatementDepreciationExpe...</td>\n",
       "      <td>us-gaap/2014</td>\n",
       "      <td>20140430</td>\n",
       "      <td>1</td>\n",
       "      <td>USD</td>\n",
       "      <td>0xa29a9a368eea3f598cbf78c49801bb4f</td>\n",
       "      <td>0</td>\n",
       "      <td>3.020000e+06</td>\n",
       "      <td>NaN</td>\n",
       "      <td>0</td>\n",
       "      <td>5</td>\n",
       "      <td>NaN</td>\n",
       "      <td>-0.446575</td>\n",
       "      <td>-13.0</td>\n",
       "      <td>-3</td>\n",
       "    </tr>\n",
       "    <tr>\n",
       "      <th>49</th>\n",
       "      <td>0001047469-15-003049</td>\n",
       "      <td>INTERNATIONAL LEASE FINANCE CORP</td>\n",
       "      <td>FairValueInputsDiscountRate</td>\n",
       "      <td>us-gaap/2014</td>\n",
       "      <td>20140430</td>\n",
       "      <td>1</td>\n",
       "      <td>pure</td>\n",
       "      <td>0x8ade5b12442a07fcb93c7d9a2f4eb577</td>\n",
       "      <td>0</td>\n",
       "      <td>1.320000e-01</td>\n",
       "      <td>NaN</td>\n",
       "      <td>0</td>\n",
       "      <td>6</td>\n",
       "      <td>NaN</td>\n",
       "      <td>-0.446575</td>\n",
       "      <td>-13.0</td>\n",
       "      <td>3</td>\n",
       "    </tr>\n",
       "    <tr>\n",
       "      <th>62</th>\n",
       "      <td>0000078003-15-000026</td>\n",
       "      <td>PFIZER INC</td>\n",
       "      <td>DerivativeInstrumentsGainLossReclassifiedFromA...</td>\n",
       "      <td>us-gaap/2015</td>\n",
       "      <td>20150331</td>\n",
       "      <td>1</td>\n",
       "      <td>USD</td>\n",
       "      <td>0xc31fe30aa8d64c36a318796ba02cb81e</td>\n",
       "      <td>0</td>\n",
       "      <td>3.730000e+08</td>\n",
       "      <td>NaN</td>\n",
       "      <td>0</td>\n",
       "      <td>5</td>\n",
       "      <td>NaN</td>\n",
       "      <td>0.046576</td>\n",
       "      <td>2.0</td>\n",
       "      <td>-6</td>\n",
       "    </tr>\n",
       "    <tr>\n",
       "      <th>2003</th>\n",
       "      <td>0000935703-15-000050</td>\n",
       "      <td>DOLLAR TREE INC</td>\n",
       "      <td>AllocatedShareBasedCompensationExpense</td>\n",
       "      <td>us-gaap/2015</td>\n",
       "      <td>20150430</td>\n",
       "      <td>1</td>\n",
       "      <td>USD</td>\n",
       "      <td>0xc79ab32503e7231abc31d48677d8bf0b</td>\n",
       "      <td>0</td>\n",
       "      <td>6.800000e+06</td>\n",
       "      <td>NaN</td>\n",
       "      <td>0</td>\n",
       "      <td>5</td>\n",
       "      <td>NaN</td>\n",
       "      <td>0.013699</td>\n",
       "      <td>-2.0</td>\n",
       "      <td>-5</td>\n",
       "    </tr>\n",
       "  </tbody>\n",
       "</table>\n",
       "</div>"
      ],
      "text/plain": [
       "         submission_number                      company_name  \\\n",
       "22    0001047469-15-003049  INTERNATIONAL LEASE FINANCE CORP   \n",
       "47    0001047469-15-003049  INTERNATIONAL LEASE FINANCE CORP   \n",
       "49    0001047469-15-003049  INTERNATIONAL LEASE FINANCE CORP   \n",
       "62    0000078003-15-000026                        PFIZER INC   \n",
       "2003  0000935703-15-000050                   DOLLAR TREE INC   \n",
       "\n",
       "                                            measure_tag               version  \\\n",
       "22    FairValueMeasurementNonrecurringBasisAssetRecl...  0001047469-15-003049   \n",
       "47    OperatingLeasesIncomeStatementDepreciationExpe...          us-gaap/2014   \n",
       "49                          FairValueInputsDiscountRate          us-gaap/2014   \n",
       "62    DerivativeInstrumentsGainLossReclassifiedFromA...          us-gaap/2015   \n",
       "2003             AllocatedShareBasedCompensationExpense          us-gaap/2015   \n",
       "\n",
       "      period_end_date  number_of_quarters units  \\\n",
       "22           20140430                   1   USD   \n",
       "47           20140430                   1   USD   \n",
       "49           20140430                   1  pure   \n",
       "62           20150331                   1   USD   \n",
       "2003         20150430                   1   USD   \n",
       "\n",
       "                          dimension_hash  iprx         value footnote  \\\n",
       "22    0x75ad5ded176d309d618ffa977f8e8804     0  1.261400e+07      NaN   \n",
       "47    0xa29a9a368eea3f598cbf78c49801bb4f     0  3.020000e+06      NaN   \n",
       "49    0x8ade5b12442a07fcb93c7d9a2f4eb577     0  1.320000e-01      NaN   \n",
       "62    0xc31fe30aa8d64c36a318796ba02cb81e     0  3.730000e+08      NaN   \n",
       "2003  0xc79ab32503e7231abc31d48677d8bf0b     0  6.800000e+06      NaN   \n",
       "\n",
       "      footnote_length  num_dimensions coregistrant  duration_fraction  \\\n",
       "22                  0               5          NaN          -0.446575   \n",
       "47                  0               5          NaN          -0.446575   \n",
       "49                  0               6          NaN          -0.446575   \n",
       "62                  0               5          NaN           0.046576   \n",
       "2003                0               5          NaN           0.013699   \n",
       "\n",
       "      date_fraction  decimal  \n",
       "22            -13.0       -3  \n",
       "47            -13.0       -3  \n",
       "49            -13.0        3  \n",
       "62              2.0       -6  \n",
       "2003           -2.0       -5  "
      ]
     },
     "execution_count": 13,
     "metadata": {},
     "output_type": "execute_result"
    }
   ],
   "source": [
    "df_quarters.head()"
   ]
  },
  {
   "cell_type": "code",
   "execution_count": 17,
   "metadata": {},
   "outputs": [
    {
     "data": {
      "text/plain": [
       "794905"
      ]
     },
     "execution_count": 17,
     "metadata": {},
     "output_type": "execute_result"
    }
   ],
   "source": [
    "df_quarters_tag = df_quarters[df_quarters['measure_tag'].isin(tags)]\n",
    "len(df_quarters_tag)"
   ]
  },
  {
   "cell_type": "code",
   "execution_count": 9,
   "metadata": {},
   "outputs": [
    {
     "data": {
      "text/plain": [
       "<pandas.core.groupby.DataFrameGroupBy object at 0x0000017D22EC3CF8>"
      ]
     },
     "execution_count": 9,
     "metadata": {},
     "output_type": "execute_result"
    }
   ],
   "source": [
    "df_quarters_tag[df_quarters_tag['submission_number']==\"0001193125-10-183206\"].groupby('period_end_date')"
   ]
  },
  {
   "cell_type": "code",
   "execution_count": 18,
   "metadata": {
    "collapsed": true
   },
   "outputs": [],
   "source": [
    "def split_date_int(row, date_col=\"period_end_date\"):\n",
    "    dt = row[date_col]\n",
    "    day = dt%100\n",
    "    month = dt/100%100\n",
    "    year = dt/10000\n",
    "    \n",
    "    return pd.Series({'year':year, 'month':month, 'day':day})"
   ]
  },
  {
   "cell_type": "code",
   "execution_count": 19,
   "metadata": {},
   "outputs": [
    {
     "data": {
      "text/html": [
       "<div>\n",
       "<style>\n",
       "    .dataframe thead tr:only-child th {\n",
       "        text-align: right;\n",
       "    }\n",
       "\n",
       "    .dataframe thead th {\n",
       "        text-align: left;\n",
       "    }\n",
       "\n",
       "    .dataframe tbody tr th {\n",
       "        vertical-align: top;\n",
       "    }\n",
       "</style>\n",
       "<table border=\"1\" class=\"dataframe\">\n",
       "  <thead>\n",
       "    <tr style=\"text-align: right;\">\n",
       "      <th></th>\n",
       "      <th>day</th>\n",
       "      <th>month</th>\n",
       "      <th>year</th>\n",
       "    </tr>\n",
       "  </thead>\n",
       "  <tbody>\n",
       "    <tr>\n",
       "      <th>count</th>\n",
       "      <td>794905.000000</td>\n",
       "      <td>794905.000000</td>\n",
       "      <td>794905.000000</td>\n",
       "    </tr>\n",
       "    <tr>\n",
       "      <th>mean</th>\n",
       "      <td>30.387833</td>\n",
       "      <td>6.118460</td>\n",
       "      <td>2012.197054</td>\n",
       "    </tr>\n",
       "    <tr>\n",
       "      <th>std</th>\n",
       "      <td>0.521786</td>\n",
       "      <td>2.464229</td>\n",
       "      <td>1.937250</td>\n",
       "    </tr>\n",
       "    <tr>\n",
       "      <th>min</th>\n",
       "      <td>28.000000</td>\n",
       "      <td>1.310000</td>\n",
       "      <td>1993.123100</td>\n",
       "    </tr>\n",
       "    <tr>\n",
       "      <th>25%</th>\n",
       "      <td>30.000000</td>\n",
       "      <td>3.310000</td>\n",
       "      <td>2011.033100</td>\n",
       "    </tr>\n",
       "    <tr>\n",
       "      <th>50%</th>\n",
       "      <td>30.000000</td>\n",
       "      <td>6.300000</td>\n",
       "      <td>2012.033100</td>\n",
       "    </tr>\n",
       "    <tr>\n",
       "      <th>75%</th>\n",
       "      <td>31.000000</td>\n",
       "      <td>7.310000</td>\n",
       "      <td>2014.033100</td>\n",
       "    </tr>\n",
       "    <tr>\n",
       "      <th>max</th>\n",
       "      <td>31.000000</td>\n",
       "      <td>12.310000</td>\n",
       "      <td>2019.033100</td>\n",
       "    </tr>\n",
       "  </tbody>\n",
       "</table>\n",
       "</div>"
      ],
      "text/plain": [
       "                 day          month           year\n",
       "count  794905.000000  794905.000000  794905.000000\n",
       "mean       30.387833       6.118460    2012.197054\n",
       "std         0.521786       2.464229       1.937250\n",
       "min        28.000000       1.310000    1993.123100\n",
       "25%        30.000000       3.310000    2011.033100\n",
       "50%        30.000000       6.300000    2012.033100\n",
       "75%        31.000000       7.310000    2014.033100\n",
       "max        31.000000      12.310000    2019.033100"
      ]
     },
     "execution_count": 19,
     "metadata": {},
     "output_type": "execute_result"
    }
   ],
   "source": [
    "df_date = df_quarters_tag.apply(split_date_int, axis=1)\n",
    "df_date.describe()"
   ]
  },
  {
   "cell_type": "code",
   "execution_count": 20,
   "metadata": {},
   "outputs": [
    {
     "data": {
      "text/plain": [
       "<matplotlib.axes._subplots.AxesSubplot at 0x17d41b62320>"
      ]
     },
     "execution_count": 20,
     "metadata": {},
     "output_type": "execute_result"
    },
    {
     "data": {
      "image/png": "[encoded data removed]",
      "text/plain": [
       "<matplotlib.figure.Figure at 0x17d00c68390>"
      ]
     },
     "metadata": {},
     "output_type": "display_data"
    }
   ],
   "source": [
    "df_date['month'].hist()"
   ]
  },
  {
   "cell_type": "code",
   "execution_count": null,
   "metadata": {
    "collapsed": true
   },
   "outputs": [],
   "source": []
  }
 ],
 "metadata": {
  "kernelspec": {
   "display_name": "Python 3",
   "language": "python",
   "name": "python3"
  },
  "language_info": {
   "codemirror_mode": {
    "name": "ipython",
    "version": 3
   },
   "file_extension": ".py",
   "mimetype": "text/x-python",
   "name": "python",
   "nbconvert_exporter": "python",
   "pygments_lexer": "ipython3",
   "version": "3.7.1"
  }
 },
 "nbformat": 4,
 "nbformat_minor": 2
}
