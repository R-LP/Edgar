{
 "cells": [
  {
   "cell_type": "code",
   "execution_count": 13,
   "metadata": {
    "collapsed": true
   },
   "outputs": [],
   "source": [
    "import os, json\n",
    "import pandas as pd\n",
    "\n",
    "import utils\n",
    "\n",
    "%matplotlib inline"
   ]
  },
  {
   "cell_type": "markdown",
   "metadata": {},
   "source": [
    "# make time series to dataframe"
   ]
  },
  {
   "cell_type": "code",
   "execution_count": 15,
   "metadata": {},
   "outputs": [
    {
     "name": "stderr",
     "output_type": "stream",
     "text": [
      "C:\\Users\\lewen.zhao\\AppData\\Local\\Continuum\\Anaconda3\\lib\\site-packages\\IPython\\core\\interactiveshell.py:2802: DtypeWarning: Columns (10,13) have mixed types. Specify dtype option on import or set low_memory=False.\n",
      "  if self.run_code(code, result):\n",
      "C:\\Users\\lewen.zhao\\AppData\\Local\\Continuum\\Anaconda3\\lib\\site-packages\\IPython\\core\\interactiveshell.py:2802: DtypeWarning: Columns (13) have mixed types. Specify dtype option on import or set low_memory=False.\n",
      "  if self.run_code(code, result):\n"
     ]
    },
    {
     "data": {
      "text/plain": [
       "8551163"
      ]
     },
     "execution_count": 15,
     "metadata": {},
     "output_type": "execute_result"
    }
   ],
   "source": [
    "nums_folder = \"./data/sec\"\n",
    "num_prefix = \"numbers_sec-numbers\"\n",
    "\n",
    "df_nums = utils.load_folder_csv(nums_folder, prefix=num_prefix)\n",
    "len(df_nums)"
   ]
  },
  {
   "cell_type": "code",
   "execution_count": 4,
   "metadata": {},
   "outputs": [
    {
     "data": {
      "text/plain": [
       "208"
      ]
     },
     "execution_count": 4,
     "metadata": {},
     "output_type": "execute_result"
    }
   ],
   "source": [
    "tags = json.loads(open('freq_tags.json', 'r').read())\n",
    "len(tags)"
   ]
  },
  {
   "cell_type": "code",
   "execution_count": 16,
   "metadata": {},
   "outputs": [
    {
     "data": {
      "text/plain": [
       "1601166"
      ]
     },
     "execution_count": 16,
     "metadata": {},
     "output_type": "execute_result"
    }
   ],
   "source": [
    "df_quarters = df_nums[df_nums['number_of_quarters']==1]\n",
    "len(df_quarters)"
   ]
  },
  {
   "cell_type": "code",
   "execution_count": 7,
   "metadata": {},
   "outputs": [
    {
     "data": {
      "text/html": [
       "<div>\n",
       "<style>\n",
       "    .dataframe thead tr:only-child th {\n",
       "        text-align: right;\n",
       "    }\n",
       "\n",
       "    .dataframe thead th {\n",
       "        text-align: left;\n",
       "    }\n",
       "\n",
       "    .dataframe tbody tr th {\n",
       "        vertical-align: top;\n",
       "    }\n",
       "</style>\n",
       "<table border=\"1\" class=\"dataframe\">\n",
       "  <thead>\n",
       "    <tr style=\"text-align: right;\">\n",
       "      <th></th>\n",
       "      <th>submission_number</th>\n",
       "      <th>company_name</th>\n",
       "      <th>measure_tag</th>\n",
       "      <th>version</th>\n",
       "      <th>period_end_date</th>\n",
       "      <th>number_of_quarters</th>\n",
       "      <th>units</th>\n",
       "      <th>dimension_hash</th>\n",
       "      <th>iprx</th>\n",
       "      <th>value</th>\n",
       "      <th>footnote</th>\n",
       "      <th>footnote_length</th>\n",
       "      <th>num_dimensions</th>\n",
       "      <th>coregistrant</th>\n",
       "      <th>duration_fraction</th>\n",
       "      <th>date_fraction</th>\n",
       "      <th>decimal</th>\n",
       "    </tr>\n",
       "  </thead>\n",
       "  <tbody>\n",
       "    <tr>\n",
       "      <th>284570</th>\n",
       "      <td>0001193125-10-183206</td>\n",
       "      <td>REGENCY ENERGY PARTNERS LP</td>\n",
       "      <td>WeightedAverageLimitedPartnershipUnitsOutstanding</td>\n",
       "      <td>us-gaap/2009</td>\n",
       "      <td>20100531</td>\n",
       "      <td>1</td>\n",
       "      <td>shares</td>\n",
       "      <td>0x17f4a4e6a80ac7bf651431403c112a09</td>\n",
       "      <td>0</td>\n",
       "      <td>9.283222e+07</td>\n",
       "      <td>NaN</td>\n",
       "      <td>0</td>\n",
       "      <td>1</td>\n",
       "      <td>NaN</td>\n",
       "      <td>0.40822</td>\n",
       "      <td>6.0</td>\n",
       "      <td>0</td>\n",
       "    </tr>\n",
       "    <tr>\n",
       "      <th>284571</th>\n",
       "      <td>0001193125-10-183206</td>\n",
       "      <td>REGENCY ENERGY PARTNERS LP</td>\n",
       "      <td>DistributionsPerLimitedPartnershipUnitOutstanding</td>\n",
       "      <td>us-gaap/2009</td>\n",
       "      <td>20100531</td>\n",
       "      <td>1</td>\n",
       "      <td>USD</td>\n",
       "      <td>0x436786f133a4fc91c4c64d86b156b4a1</td>\n",
       "      <td>0</td>\n",
       "      <td>4.450000e-01</td>\n",
       "      <td>NaN</td>\n",
       "      <td>0</td>\n",
       "      <td>2</td>\n",
       "      <td>NaN</td>\n",
       "      <td>0.40822</td>\n",
       "      <td>6.0</td>\n",
       "      <td>3</td>\n",
       "    </tr>\n",
       "    <tr>\n",
       "      <th>284572</th>\n",
       "      <td>0001193125-10-183206</td>\n",
       "      <td>REGENCY ENERGY PARTNERS LP</td>\n",
       "      <td>NetIncomeLossPerOutstandingLimitedPartnershipUnit</td>\n",
       "      <td>us-gaap/2009</td>\n",
       "      <td>20100531</td>\n",
       "      <td>1</td>\n",
       "      <td>USD</td>\n",
       "      <td>0x17f4a4e6a80ac7bf651431403c112a09</td>\n",
       "      <td>0</td>\n",
       "      <td>-7.000000e-02</td>\n",
       "      <td>NaN</td>\n",
       "      <td>0</td>\n",
       "      <td>1</td>\n",
       "      <td>NaN</td>\n",
       "      <td>0.40822</td>\n",
       "      <td>6.0</td>\n",
       "      <td>2</td>\n",
       "    </tr>\n",
       "    <tr>\n",
       "      <th>284573</th>\n",
       "      <td>0001193125-10-183206</td>\n",
       "      <td>REGENCY ENERGY PARTNERS LP</td>\n",
       "      <td>GainLossOnDispositionOfAssets</td>\n",
       "      <td>us-gaap/2009</td>\n",
       "      <td>20100531</td>\n",
       "      <td>1</td>\n",
       "      <td>USD</td>\n",
       "      <td>0x17f4a4e6a80ac7bf651431403c112a09</td>\n",
       "      <td>0</td>\n",
       "      <td>-1.900000e+04</td>\n",
       "      <td>NaN</td>\n",
       "      <td>0</td>\n",
       "      <td>1</td>\n",
       "      <td>NaN</td>\n",
       "      <td>0.40822</td>\n",
       "      <td>6.0</td>\n",
       "      <td>-3</td>\n",
       "    </tr>\n",
       "    <tr>\n",
       "      <th>284574</th>\n",
       "      <td>0001193125-10-183206</td>\n",
       "      <td>REGENCY ENERGY PARTNERS LP</td>\n",
       "      <td>NaturalGasLiquidsSalesRevenues</td>\n",
       "      <td>0001193125-10-183206</td>\n",
       "      <td>20100531</td>\n",
       "      <td>1</td>\n",
       "      <td>USD</td>\n",
       "      <td>0x17f4a4e6a80ac7bf651431403c112a09</td>\n",
       "      <td>0</td>\n",
       "      <td>6.903300e+07</td>\n",
       "      <td>NaN</td>\n",
       "      <td>0</td>\n",
       "      <td>1</td>\n",
       "      <td>NaN</td>\n",
       "      <td>0.40822</td>\n",
       "      <td>6.0</td>\n",
       "      <td>-3</td>\n",
       "    </tr>\n",
       "  </tbody>\n",
       "</table>\n",
       "</div>"
      ],
      "text/plain": [
       "           submission_number                company_name  \\\n",
       "284570  0001193125-10-183206  REGENCY ENERGY PARTNERS LP   \n",
       "284571  0001193125-10-183206  REGENCY ENERGY PARTNERS LP   \n",
       "284572  0001193125-10-183206  REGENCY ENERGY PARTNERS LP   \n",
       "284573  0001193125-10-183206  REGENCY ENERGY PARTNERS LP   \n",
       "284574  0001193125-10-183206  REGENCY ENERGY PARTNERS LP   \n",
       "\n",
       "                                              measure_tag  \\\n",
       "284570  WeightedAverageLimitedPartnershipUnitsOutstanding   \n",
       "284571  DistributionsPerLimitedPartnershipUnitOutstanding   \n",
       "284572  NetIncomeLossPerOutstandingLimitedPartnershipUnit   \n",
       "284573                      GainLossOnDispositionOfAssets   \n",
       "284574                     NaturalGasLiquidsSalesRevenues   \n",
       "\n",
       "                     version  period_end_date  number_of_quarters   units  \\\n",
       "284570          us-gaap/2009         20100531                   1  shares   \n",
       "284571          us-gaap/2009         20100531                   1     USD   \n",
       "284572          us-gaap/2009         20100531                   1     USD   \n",
       "284573          us-gaap/2009         20100531                   1     USD   \n",
       "284574  0001193125-10-183206         20100531                   1     USD   \n",
       "\n",
       "                            dimension_hash  iprx         value footnote  \\\n",
       "284570  0x17f4a4e6a80ac7bf651431403c112a09     0  9.283222e+07      NaN   \n",
       "284571  0x436786f133a4fc91c4c64d86b156b4a1     0  4.450000e-01      NaN   \n",
       "284572  0x17f4a4e6a80ac7bf651431403c112a09     0 -7.000000e-02      NaN   \n",
       "284573  0x17f4a4e6a80ac7bf651431403c112a09     0 -1.900000e+04      NaN   \n",
       "284574  0x17f4a4e6a80ac7bf651431403c112a09     0  6.903300e+07      NaN   \n",
       "\n",
       "        footnote_length  num_dimensions coregistrant  duration_fraction  \\\n",
       "284570                0               1          NaN            0.40822   \n",
       "284571                0               2          NaN            0.40822   \n",
       "284572                0               1          NaN            0.40822   \n",
       "284573                0               1          NaN            0.40822   \n",
       "284574                0               1          NaN            0.40822   \n",
       "\n",
       "        date_fraction  decimal  \n",
       "284570            6.0        0  \n",
       "284571            6.0        3  \n",
       "284572            6.0        2  \n",
       "284573            6.0       -3  \n",
       "284574            6.0       -3  "
      ]
     },
     "execution_count": 7,
     "metadata": {},
     "output_type": "execute_result"
    }
   ],
   "source": [
    "df_quarters.head()"
   ]
  },
  {
   "cell_type": "code",
   "execution_count": 17,
   "metadata": {},
   "outputs": [
    {
     "data": {
      "text/plain": [
       "794905"
      ]
     },
     "execution_count": 17,
     "metadata": {},
     "output_type": "execute_result"
    }
   ],
   "source": [
    "df_quarters_tag = df_quarters[df_quarters['measure_tag'].isin(tags)]\n",
    "len(df_quarters_tag)"
   ]
  },
  {
   "cell_type": "code",
   "execution_count": 9,
   "metadata": {},
   "outputs": [
    {
     "data": {
      "text/plain": [
       "<pandas.core.groupby.DataFrameGroupBy object at 0x0000017D22EC3CF8>"
      ]
     },
     "execution_count": 9,
     "metadata": {},
     "output_type": "execute_result"
    }
   ],
   "source": [
    "df_quarters_tag[df_quarters_tag['submission_number']==\"0001193125-10-183206\"].groupby('period_end_date')"
   ]
  },
  {
   "cell_type": "code",
   "execution_count": 18,
   "metadata": {
    "collapsed": true
   },
   "outputs": [],
   "source": [
    "def split_date_int(row, date_col=\"period_end_date\"):\n",
    "    dt = row[date_col]\n",
    "    day = dt%100\n",
    "    month = dt/100%100\n",
    "    year = dt/10000\n",
    "    \n",
    "    return pd.Series({'year':year, 'month':month, 'day':day})"
   ]
  },
  {
   "cell_type": "code",
   "execution_count": 19,
   "metadata": {},
   "outputs": [
    {
     "data": {
      "text/html": [
       "<div>\n",
       "<style>\n",
       "    .dataframe thead tr:only-child th {\n",
       "        text-align: right;\n",
       "    }\n",
       "\n",
       "    .dataframe thead th {\n",
       "        text-align: left;\n",
       "    }\n",
       "\n",
       "    .dataframe tbody tr th {\n",
       "        vertical-align: top;\n",
       "    }\n",
       "</style>\n",
       "<table border=\"1\" class=\"dataframe\">\n",
       "  <thead>\n",
       "    <tr style=\"text-align: right;\">\n",
       "      <th></th>\n",
       "      <th>day</th>\n",
       "      <th>month</th>\n",
       "      <th>year</th>\n",
       "    </tr>\n",
       "  </thead>\n",
       "  <tbody>\n",
       "    <tr>\n",
       "      <th>count</th>\n",
       "      <td>794905.000000</td>\n",
       "      <td>794905.000000</td>\n",
       "      <td>794905.000000</td>\n",
       "    </tr>\n",
       "    <tr>\n",
       "      <th>mean</th>\n",
       "      <td>30.387833</td>\n",
       "      <td>6.118460</td>\n",
       "      <td>2012.197054</td>\n",
       "    </tr>\n",
       "    <tr>\n",
       "      <th>std</th>\n",
       "      <td>0.521786</td>\n",
       "      <td>2.464229</td>\n",
       "      <td>1.937250</td>\n",
       "    </tr>\n",
       "    <tr>\n",
       "      <th>min</th>\n",
       "      <td>28.000000</td>\n",
       "      <td>1.310000</td>\n",
       "      <td>1993.123100</td>\n",
       "    </tr>\n",
       "    <tr>\n",
       "      <th>25%</th>\n",
       "      <td>30.000000</td>\n",
       "      <td>3.310000</td>\n",
       "      <td>2011.033100</td>\n",
       "    </tr>\n",
       "    <tr>\n",
       "      <th>50%</th>\n",
       "      <td>30.000000</td>\n",
       "      <td>6.300000</td>\n",
       "      <td>2012.033100</td>\n",
       "    </tr>\n",
       "    <tr>\n",
       "      <th>75%</th>\n",
       "      <td>31.000000</td>\n",
       "      <td>7.310000</td>\n",
       "      <td>2014.033100</td>\n",
       "    </tr>\n",
       "    <tr>\n",
       "      <th>max</th>\n",
       "      <td>31.000000</td>\n",
       "      <td>12.310000</td>\n",
       "      <td>2019.033100</td>\n",
       "    </tr>\n",
       "  </tbody>\n",
       "</table>\n",
       "</div>"
      ],
      "text/plain": [
       "                 day          month           year\n",
       "count  794905.000000  794905.000000  794905.000000\n",
       "mean       30.387833       6.118460    2012.197054\n",
       "std         0.521786       2.464229       1.937250\n",
       "min        28.000000       1.310000    1993.123100\n",
       "25%        30.000000       3.310000    2011.033100\n",
       "50%        30.000000       6.300000    2012.033100\n",
       "75%        31.000000       7.310000    2014.033100\n",
       "max        31.000000      12.310000    2019.033100"
      ]
     },
     "execution_count": 19,
     "metadata": {},
     "output_type": "execute_result"
    }
   ],
   "source": [
    "df_date = df_quarters_tag.apply(split_date_int, axis=1)\n",
    "df_date.describe()"
   ]
  },
  {
   "cell_type": "code",
   "execution_count": 20,
   "metadata": {},
   "outputs": [
    {
     "data": {
      "text/plain": [
       "<matplotlib.axes._subplots.AxesSubplot at 0x17d41b62320>"
      ]
     },
     "execution_count": 20,
     "metadata": {},
     "output_type": "execute_result"
    },
    {
     "data": {
      "image/png": "[encoded data removed]",
      "text/plain": [
       "<matplotlib.figure.Figure at 0x17d00c68390>"
      ]
     },
     "metadata": {},
     "output_type": "display_data"
    }
   ],
   "source": [
    "df_date['month'].hist()"
   ]
  },
  {
   "cell_type": "code",
   "execution_count": null,
   "metadata": {
    "collapsed": true
   },
   "outputs": [],
   "source": []
  }
 ],
 "metadata": {
  "kernelspec": {
   "display_name": "Python 3",
   "language": "python",
   "name": "python3"
  },
  "language_info": {
   "codemirror_mode": {
    "name": "ipython",
    "version": 3
   },
   "file_extension": ".py",
   "mimetype": "text/x-python",
   "name": "python",
   "nbconvert_exporter": "python",
   "pygments_lexer": "ipython3",
   "version": "3.6.3"
  }
 },
 "nbformat": 4,
 "nbformat_minor": 2
}
